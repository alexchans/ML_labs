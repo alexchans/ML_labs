{
 "cells": [
  {
   "cell_type": "markdown",
   "id": "2fb14ce4",
   "metadata": {},
   "source": [
    "## GROUP MEMBERS\n",
    "- **Alex Chen** \n",
    "- **Paige Maple** \n",
    "- **Sam Valentine**"
   ]
  },
  {
   "cell_type": "markdown",
   "id": "8963d93b",
   "metadata": {},
   "source": [
    "### Business Understanding (1.5 pts)\n",
    "\n",
    "1. **Overview of the Dataset and Its Purpose**  \n",
    "   The **Education Inequality Data** dataset ([Kaggle link](https://www.kaggle.com/datasets/shamimhasan8/education-inequality-data)) provides information on about 1,000 schools in the United States. It includes data such as **average test scores, funding per student, student–teacher ratio, and other school-level indicators**. The purpose of collecting this kind of data is to highlight patterns of inequality in the education system and to provide a basis for studying how different factors affect student performance. By bringing together financial, structural, and outcome-related information, the dataset allows us to explore whether students in underfunded or overcrowded schools are at a disadvantage compared to those in better-resourced schools.  \n",
    "\n",
    "2. **Prediction Task**  \n",
    "   For our project, the **prediction task** is centered on the **average test score**. Instead of treating it as a continuous number, we will convert it into a **binary classification problem**: a school “passes” if its average test score is **≥ 70 (coded as 1)** and “fails” if the average is **below 70 (coded as 0)**. This framing allows us to study the conditions that increase the likelihood of passing or failing. While funding per student is an important feature, it is **not the only one that matters**. Other variables such as student–teacher ratio, overall enrollment, or demographic factors may also play a role in determining whether a school performs well. By including multiple features, we can better understand how resources and other conditions collectively influence student success.  \n",
    "\n",
    "3. **Why This Matters and Performance Expectations**  \n",
    "   The results of this prediction task would be useful for **educators, school administrators, policymakers, and nonprofits**. These groups care about identifying schools that are likely to struggle so they can allocate resources, design interventions, and advocate for more equitable policies. A model that can predict pass/fail outcomes with reasonably **high accuracy** would provide valuable insights, even if it is not perfect. For example, being able to correctly classify most schools would still help highlight patterns of inequality and guide decision-making. Importantly, since funding is not the sole determinant of student performance, the model could also reveal how other school characteristics contribute to success or failure, offering a more balanced and realistic understanding of the factors behind educational outcomes.  \n"
   ]
  },
  {
   "cell_type": "markdown",
   "id": "f237efa6",
   "metadata": {},
   "source": [
    "### Data Understanding (3 pts)"
   ]
  },
  {
   "cell_type": "markdown",
   "id": "198a7f0a",
   "metadata": {},
   "source": [
    "#### Part 1 (1.5 pts)"
   ]
  },
  {
   "cell_type": "code",
   "execution_count": 7,
   "id": "20686502",
   "metadata": {},
   "outputs": [
    {
     "name": "stdout",
     "output_type": "stream",
     "text": [
      "<class 'pandas.core.frame.DataFrame'>\n",
      "RangeIndex: 1000 entries, 0 to 999\n",
      "Data columns (total 12 columns):\n",
      " #   Column                   Non-Null Count  Dtype  \n",
      "---  ------                   --------------  -----  \n",
      " 0   id                       1000 non-null   int64  \n",
      " 1   school_name              1000 non-null   object \n",
      " 2   state                    1000 non-null   object \n",
      " 3   school_type              1000 non-null   object \n",
      " 4   grade_level              1000 non-null   object \n",
      " 5   funding_per_student_usd  1000 non-null   float64\n",
      " 6   pass/fail                1000 non-null   int32  \n",
      " 7   student_teacher_ratio    1000 non-null   float64\n",
      " 8   percent_low_income       1000 non-null   float64\n",
      " 9   percent_minority         1000 non-null   float64\n",
      " 10  internet_access_percent  1000 non-null   float64\n",
      " 11  dropout_rate_percent     1000 non-null   float64\n",
      "dtypes: float64(6), int32(1), int64(1), object(4)\n",
      "memory usage: 90.0+ KB\n"
     ]
    },
    {
     "data": {
      "text/html": [
       "<div>\n",
       "<style scoped>\n",
       "    .dataframe tbody tr th:only-of-type {\n",
       "        vertical-align: middle;\n",
       "    }\n",
       "\n",
       "    .dataframe tbody tr th {\n",
       "        vertical-align: top;\n",
       "    }\n",
       "\n",
       "    .dataframe thead th {\n",
       "        text-align: right;\n",
       "    }\n",
       "</style>\n",
       "<table border=\"1\" class=\"dataframe\">\n",
       "  <thead>\n",
       "    <tr style=\"text-align: right;\">\n",
       "      <th></th>\n",
       "      <th>id</th>\n",
       "      <th>school_name</th>\n",
       "      <th>state</th>\n",
       "      <th>school_type</th>\n",
       "      <th>grade_level</th>\n",
       "      <th>funding_per_student_usd</th>\n",
       "      <th>pass/fail</th>\n",
       "      <th>student_teacher_ratio</th>\n",
       "      <th>percent_low_income</th>\n",
       "      <th>percent_minority</th>\n",
       "      <th>internet_access_percent</th>\n",
       "      <th>dropout_rate_percent</th>\n",
       "    </tr>\n",
       "  </thead>\n",
       "  <tbody>\n",
       "    <tr>\n",
       "      <th>0</th>\n",
       "      <td>1</td>\n",
       "      <td>Bowman High School</td>\n",
       "      <td>Michigan</td>\n",
       "      <td>Private</td>\n",
       "      <td>High</td>\n",
       "      <td>9575.80</td>\n",
       "      <td>0</td>\n",
       "      <td>17.5</td>\n",
       "      <td>30.0</td>\n",
       "      <td>44.0</td>\n",
       "      <td>74.1</td>\n",
       "      <td>3.44</td>\n",
       "    </tr>\n",
       "    <tr>\n",
       "      <th>1</th>\n",
       "      <td>2</td>\n",
       "      <td>Foster High School</td>\n",
       "      <td>Michigan</td>\n",
       "      <td>Charter</td>\n",
       "      <td>Middle</td>\n",
       "      <td>16733.10</td>\n",
       "      <td>1</td>\n",
       "      <td>24.2</td>\n",
       "      <td>93.5</td>\n",
       "      <td>40.1</td>\n",
       "      <td>79.9</td>\n",
       "      <td>8.67</td>\n",
       "    </tr>\n",
       "    <tr>\n",
       "      <th>2</th>\n",
       "      <td>3</td>\n",
       "      <td>Henson High School</td>\n",
       "      <td>New York</td>\n",
       "      <td>Public</td>\n",
       "      <td>Middle</td>\n",
       "      <td>24890.74</td>\n",
       "      <td>1</td>\n",
       "      <td>27.0</td>\n",
       "      <td>58.1</td>\n",
       "      <td>35.8</td>\n",
       "      <td>51.1</td>\n",
       "      <td>14.75</td>\n",
       "    </tr>\n",
       "    <tr>\n",
       "      <th>3</th>\n",
       "      <td>4</td>\n",
       "      <td>Weaver High School</td>\n",
       "      <td>Texas</td>\n",
       "      <td>Private</td>\n",
       "      <td>Elementary</td>\n",
       "      <td>6857.49</td>\n",
       "      <td>1</td>\n",
       "      <td>26.2</td>\n",
       "      <td>82.7</td>\n",
       "      <td>72.0</td>\n",
       "      <td>55.5</td>\n",
       "      <td>13.45</td>\n",
       "    </tr>\n",
       "    <tr>\n",
       "      <th>4</th>\n",
       "      <td>5</td>\n",
       "      <td>King Elementary School</td>\n",
       "      <td>Michigan</td>\n",
       "      <td>Public</td>\n",
       "      <td>Elementary</td>\n",
       "      <td>16910.73</td>\n",
       "      <td>0</td>\n",
       "      <td>20.2</td>\n",
       "      <td>41.4</td>\n",
       "      <td>16.1</td>\n",
       "      <td>57.8</td>\n",
       "      <td>6.98</td>\n",
       "    </tr>\n",
       "  </tbody>\n",
       "</table>\n",
       "</div>"
      ],
      "text/plain": [
       "   id             school_name     state school_type grade_level  \\\n",
       "0   1      Bowman High School  Michigan     Private        High   \n",
       "1   2      Foster High School  Michigan     Charter      Middle   \n",
       "2   3      Henson High School  New York      Public      Middle   \n",
       "3   4      Weaver High School     Texas     Private  Elementary   \n",
       "4   5  King Elementary School  Michigan      Public  Elementary   \n",
       "\n",
       "   funding_per_student_usd  pass/fail  student_teacher_ratio  \\\n",
       "0                  9575.80          0                   17.5   \n",
       "1                 16733.10          1                   24.2   \n",
       "2                 24890.74          1                   27.0   \n",
       "3                  6857.49          1                   26.2   \n",
       "4                 16910.73          0                   20.2   \n",
       "\n",
       "   percent_low_income  percent_minority  internet_access_percent  \\\n",
       "0                30.0              44.0                     74.1   \n",
       "1                93.5              40.1                     79.9   \n",
       "2                58.1              35.8                     51.1   \n",
       "3                82.7              72.0                     55.5   \n",
       "4                41.4              16.1                     57.8   \n",
       "\n",
       "   dropout_rate_percent  \n",
       "0                  3.44  \n",
       "1                  8.67  \n",
       "2                 14.75  \n",
       "3                 13.45  \n",
       "4                  6.98  "
      ]
     },
     "execution_count": 7,
     "metadata": {},
     "output_type": "execute_result"
    }
   ],
   "source": [
    "import numpy as np\n",
    "import pandas as pd\n",
    "\n",
    "# load the dataset\n",
    "df = pd.read_csv(\"../dataset/education_inequality_data.csv\")\n",
    "\n",
    "# change avg_test_score to categorical data (1 for pass and 0 for fail) and change the name to pass/fail\n",
    "df[\"avg_test_score_percent\"] = (df[\"avg_test_score_percent\"] >= 70).astype(int)\n",
    "df = df.rename(columns={\"avg_test_score_percent\": \"pass/fail\"})\n",
    "\n",
    "# show basic info\n",
    "df.info()\n",
    "df.head()\n"
   ]
  },
  {
   "cell_type": "markdown",
   "id": "e11c3502",
   "metadata": {},
   "source": [
    "We created a table to show the 12 attributes within the dataset along with their desired data type and a short discussion of each attribute.  \n",
    "\n",
    "| Column                   | Data Type                 | Discussion                                                                 |\n",
    "|---------------------------|---------------------------|----------------------------------------------------------------------------|\n",
    "| id                        | Categorical (identifier)  | The school id is just a unique identifier and should not affect the pass/fail rate. |\n",
    "| school_name               | Categorical (nominal)     | Each school name is unique; it does not influence performance directly and is not useful for prediction. |\n",
    "| state                     | Categorical (nominal)     | Indicates the U.S. state; may capture regional differences in funding and outcomes. |\n",
    "| school_type               | Categorical (nominal)     | Public, Private, or Charter; school type may influence resources and outcomes. |\n",
    "| grade_level               | Categorical (ordinal)     | Elementary, Middle, High; has an inherent order, but often treated as nominal in modeling. |\n",
    "| funding_per_student_usd   | Numeric (continuous)      | Measures financial resources per student; a central factor in studying inequality. |\n",
    "| pass/fail                 | Categorical (binary)      | Target variable (1 = pass, 0 = fail); represents the classification outcome. |\n",
    "| student_teacher_ratio     | Numeric (continuous)      | Lower ratios may reflect more support per student, influencing success rates. |\n",
    "| percent_low_income        | Numeric (continuous)      | Higher percentages may correlate with additional challenges in student outcomes. |\n",
    "| percent_minority          | Numeric (continuous)      | Reflects demographic composition; may highlight systemic inequalities. |\n",
    "| internet_access_percent   | Numeric (continuous)      | Indicates digital access; important for modern education and performance. |\n",
    "| dropout_rate_percent      | Numeric (continuous)      | High dropout rates often signal struggling schools and lower performance. |"
   ]
  },
  {
   "cell_type": "markdown",
   "id": "29e23c7d",
   "metadata": {},
   "source": [
    "#### Part 2 (1.5 pts)"
   ]
  },
  {
   "cell_type": "code",
   "execution_count": 9,
   "id": "3bcaba4f",
   "metadata": {},
   "outputs": [
    {
     "name": "stdout",
     "output_type": "stream",
     "text": [
      "<class 'pandas.core.frame.DataFrame'>\n",
      "RangeIndex: 1000 entries, 0 to 999\n",
      "Data columns (total 12 columns):\n",
      " #   Column                   Non-Null Count  Dtype  \n",
      "---  ------                   --------------  -----  \n",
      " 0   id                       1000 non-null   int64  \n",
      " 1   school_name              1000 non-null   object \n",
      " 2   state                    1000 non-null   object \n",
      " 3   school_type              1000 non-null   object \n",
      " 4   grade_level              1000 non-null   object \n",
      " 5   funding_per_student_usd  1000 non-null   float64\n",
      " 6   pass/fail                1000 non-null   int32  \n",
      " 7   student_teacher_ratio    1000 non-null   float64\n",
      " 8   percent_low_income       1000 non-null   float64\n",
      " 9   percent_minority         1000 non-null   float64\n",
      " 10  internet_access_percent  1000 non-null   float64\n",
      " 11  dropout_rate_percent     1000 non-null   float64\n",
      "dtypes: float64(6), int32(1), int64(1), object(4)\n",
      "memory usage: 90.0+ KB\n",
      "Duplicate rows:  0\n"
     ]
    }
   ],
   "source": [
    "df.info()\n",
    "print(\"Duplicate rows: \", df.duplicated().sum())"
   ]
  },
  {
   "cell_type": "markdown",
   "id": "6beacca6",
   "metadata": {},
   "source": [
    "We verified the dataset for data quality issues. Using `df.info()`, we confirmed that all 12 attributes have 1000 non-null entries, meaning there are **no missing values**. We also checked for duplicates with `df.duplicated().sum()`, which returned 0. This shows there are **no duplicate rows**. Therefore, the dataset is clean and does not require elimination or imputation, and we can proceed with analysis confidently.\n"
   ]
  },
  {
   "cell_type": "markdown",
   "id": "a8047987",
   "metadata": {},
   "source": [
    "### Data Visualization (4.5 pts)"
   ]
  },
  {
   "cell_type": "markdown",
   "id": "9995f713",
   "metadata": {},
   "source": [
    "#### Part One (2 pts)"
   ]
  },
  {
   "cell_type": "markdown",
   "id": "7d1ea935",
   "metadata": {},
   "source": [
    "#### Part Two (2.5 pts)"
   ]
  },
  {
   "cell_type": "markdown",
   "id": "7318ec7a",
   "metadata": {},
   "source": [
    "### Exceptional Work (1 pts)"
   ]
  },
  {
   "cell_type": "markdown",
   "id": "c2c68e62",
   "metadata": {},
   "source": [
    "#### Part One (0.4 pts)"
   ]
  },
  {
   "cell_type": "markdown",
   "id": "51ac0eff",
   "metadata": {},
   "source": [
    "#### Part Two (UMAP) (0.6 pts)"
   ]
  },
  {
   "cell_type": "code",
   "execution_count": null,
   "id": "09124baf",
   "metadata": {},
   "outputs": [],
   "source": []
  }
 ],
 "metadata": {
  "kernelspec": {
   "display_name": "base",
   "language": "python",
   "name": "python3"
  },
  "language_info": {
   "codemirror_mode": {
    "name": "ipython",
    "version": 3
   },
   "file_extension": ".py",
   "mimetype": "text/x-python",
   "name": "python",
   "nbconvert_exporter": "python",
   "pygments_lexer": "ipython3",
   "version": "3.12.3"
  }
 },
 "nbformat": 4,
 "nbformat_minor": 5
}
