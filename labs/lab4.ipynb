{
 "cells": [
  {
   "cell_type": "markdown",
   "id": "3bf638d1",
   "metadata": {},
   "source": [
    "## Lab Assignment Three: Extending Logistic Regression \n",
    "GROUP MEMBERS:\n",
    "- **Alex Chen** \n",
    "- **Paige Maple** \n",
    "- **Sam Valentine**"
   ]
  },
  {
   "cell_type": "markdown",
   "id": "28511257",
   "metadata": {},
   "source": [
    "### Sources\n",
    "1. ChatGPT (For formatting text and plots)"
   ]
  },
  {
   "cell_type": "markdown",
   "id": "d1590b83",
   "metadata": {},
   "source": [
    "### Load, Split, and Balance (1.5 points total)"
   ]
  },
  {
   "cell_type": "markdown",
   "id": "fd6a5717",
   "metadata": {},
   "source": [
    "#### Part One (0.5 pts)"
   ]
  },
  {
   "cell_type": "markdown",
   "id": "b6120fb5",
   "metadata": {
    "vscode": {
     "languageId": "plaintext"
    }
   },
   "source": [
    "#### Part Two (0.5 pts)"
   ]
  },
  {
   "cell_type": "markdown",
   "id": "22fc7a6e",
   "metadata": {
    "vscode": {
     "languageId": "plaintext"
    }
   },
   "source": [
    "#### Part Three (0.5 pts)"
   ]
  },
  {
   "cell_type": "markdown",
   "id": "28efcbab",
   "metadata": {},
   "source": [
    "### Pre-processing and Initial Modeling (2.5 points total)"
   ]
  },
  {
   "cell_type": "markdown",
   "id": "50884a8e",
   "metadata": {},
   "source": [
    "#### Part One (0.5 pts)"
   ]
  },
  {
   "cell_type": "markdown",
   "id": "50b48156",
   "metadata": {},
   "source": [
    "#### Part Two (0.5 pts)"
   ]
  },
  {
   "cell_type": "markdown",
   "id": "c1265988",
   "metadata": {},
   "source": [
    "#### Part Three (0.5 pts)"
   ]
  },
  {
   "cell_type": "markdown",
   "id": "d3238677",
   "metadata": {},
   "source": [
    "#### Part Four (1 pts)"
   ]
  },
  {
   "cell_type": "markdown",
   "id": "08873458",
   "metadata": {},
   "source": [
    "### Modeling (5 points total)"
   ]
  },
  {
   "cell_type": "markdown",
   "id": "fc0ad63d",
   "metadata": {},
   "source": [
    "#### Part One (1 pts)"
   ]
  },
  {
   "cell_type": "markdown",
   "id": "ae62c2e6",
   "metadata": {},
   "source": [
    "#### Part Two (1 pts)"
   ]
  },
  {
   "cell_type": "markdown",
   "id": "7428fc48",
   "metadata": {},
   "source": [
    "#### Part Three (1 pts)"
   ]
  },
  {
   "cell_type": "markdown",
   "id": "6312da8d",
   "metadata": {},
   "source": [
    "#### Part Four (2 pts)"
   ]
  },
  {
   "cell_type": "markdown",
   "id": "f21cef86",
   "metadata": {},
   "source": [
    "### Exceptional Work (1 points total)\n",
    "One idea (required for 7000 level students):  Implement adaptive momentum (AdaM) in the five layer neural network and quantify the performance compared to other methods.  "
   ]
  }
 ],
 "metadata": {
  "language_info": {
   "name": "python"
  }
 },
 "nbformat": 4,
 "nbformat_minor": 5
}
